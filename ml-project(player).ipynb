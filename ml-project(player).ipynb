{
 "cells": [
  {
   "cell_type": "code",
   "execution_count": null,
   "id": "ea4ad655-706b-4165-a379-bcb9c53dcbbb",
   "metadata": {},
   "outputs": [
    {
     "name": "stdout",
     "output_type": "stream",
     "text": [
      "pygame 2.6.1 (SDL 2.28.4, Python 3.13.1)\n",
      "Hello from the pygame community. https://www.pygame.org/contribute.html\n"
     ]
    }
   ],
   "source": [
    "from tkinter import *\n",
    "from tkinter import filedialog\n",
    "from pygame import mixer\n",
    "\n",
    "class Player:\n",
    "    def __init__(self, window):\n",
    "        window.geometry('320x100')\n",
    "        window.title('Python Tiny Player')\n",
    "        window.resizable(0, 0)\n",
    "        \n",
    "        Load = Button(window, text='Load', width=10, font=('Times', 10), command=self.load)\n",
    "        Play = Button(window, text='Play', width=10, font=('Times', 10), command=self.play)\n",
    "        Pause = Button(window, text='Pause', width=10, font=('Times', 10), command=self.pause)\n",
    "        Stop = Button(window, text='Stop', width=10, font=('Times', 10), command=self.stop)\n",
    "        \n",
    "        Load.place(x=0, y=0)\n",
    "        Play.place(x=110, y=20)\n",
    "        Pause.place(x=220, y=20)\n",
    "        Stop.place(x=110, y=60)\n",
    "        \n",
    "        self.music_file = False\n",
    "        self.playing_state = False\n",
    "\n",
    "    def load(self):\n",
    "        self.music_file = filedialog.askopenfilename()\n",
    "\n",
    "    def play(self):\n",
    "        if self.music_file:\n",
    "            mixer.init()\n",
    "            mixer.music.load(self.music_file)\n",
    "            mixer.music.play()\n",
    "\n",
    "    def pause(self):\n",
    "        if not self.playing_state:\n",
    "            mixer.music.pause()\n",
    "            self.playing_state = True\n",
    "        else:\n",
    "            mixer.music.unpause()\n",
    "            self.playing_state = False\n",
    "\n",
    "    def stop(self):\n",
    "        mixer.music.stop()\n",
    "\n",
    "new_root = Tk()\n",
    "player_app = Player(new_root)\n",
    "new_root.mainloop()\n"
   ]
  },
  {
   "cell_type": "code",
   "execution_count": null,
   "id": "10c5a58c-8a99-43a0-a3ae-6b284709d3f6",
   "metadata": {},
   "outputs": [],
   "source": []
  }
 ],
 "metadata": {
  "kernelspec": {
   "display_name": "Python 3 (ipykernel)",
   "language": "python",
   "name": "python3"
  },
  "language_info": {
   "codemirror_mode": {
    "name": "ipython",
    "version": 3
   },
   "file_extension": ".py",
   "mimetype": "text/x-python",
   "name": "python",
   "nbconvert_exporter": "python",
   "pygments_lexer": "ipython3",
   "version": "3.13.1"
  }
 },
 "nbformat": 4,
 "nbformat_minor": 5
}
